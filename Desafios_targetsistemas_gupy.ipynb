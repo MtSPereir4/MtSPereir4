{
 "cells": [
  {
   "cell_type": "code",
   "execution_count": 34,
   "metadata": {},
   "outputs": [
    {
     "name": "stdout",
     "output_type": "stream",
     "text": [
      "91\n"
     ]
    }
   ],
   "source": [
    "#Desafio 1\n",
    "indice = 13\n",
    "soma = k = 0\n",
    "\n",
    "while (k < indice):\n",
    "    k = k + 1\n",
    "    soma += k\n",
    "    \n",
    "print(soma)"
   ]
  },
  {
   "cell_type": "code",
   "execution_count": 45,
   "metadata": {},
   "outputs": [
    {
     "name": "stdout",
     "output_type": "stream",
     "text": [
      "O número 13 faz parte da sequência de Fibonacci\n",
      "Sequêncida de Fibonacci: [0, 1, 1, 2, 3, 5, 8, 13]\n"
     ]
    }
   ],
   "source": [
    "#Desafio 2\n",
    "n1 = 0\n",
    "n2 = 1\n",
    "lista_fibonacci = [n1, n2]\n",
    "\n",
    "x = int(input(\"Informe um número: \"))\n",
    "\n",
    "while True:\n",
    "    n = n1 + n2\n",
    "    lista_fibonacci.append(n)\n",
    "    n1 = n2\n",
    "    n2 = n\n",
    "\n",
    "    if n >= x:\n",
    "        break\n",
    "\n",
    "if x in lista_fibonacci:\n",
    "    print(f\"O número {x} faz parte da sequência de Fibonacci\")\n",
    "else:\n",
    "    print(f\"O número {x} NÃO faz parte da sequência de Fibonacci.\")\n",
    "\n",
    "print(f\"Sequêncida de Fibonacci: {lista_fibonacci}\")"
   ]
  },
  {
   "cell_type": "code",
   "execution_count": 7,
   "metadata": {},
   "outputs": [],
   "source": [
    "#Dados para o desafio 3\n",
    "dados_json = [\n",
    "    {\"dia\": 1, \"valor\": 22174.1664},\n",
    "    {\"dia\": 2, \"valor\": 24537.6698},\n",
    "    {\"dia\": 3, \"valor\": 26139.6134},\n",
    "    {\"dia\": 4, \"valor\": 0.0},\n",
    "    {\"dia\": 5, \"valor\": 0.0},\n",
    "    {\"dia\": 6, \"valor\": 26742.6612},\n",
    "    {\"dia\": 7, \"valor\": 0.0},\n",
    "    {\"dia\": 8, \"valor\": 42889.2258},\n",
    "    {\"dia\": 9, \"valor\": 46251.174},\n",
    "    {\"dia\": 10, \"valor\": 12391.7822},\n",
    "    {\"dia\": 11, \"valor\": 21192.6742},\n",
    "    {\"dia\": 12, \"valor\": 31191.2929},\n",
    "    {\"dia\": 13, \"valor\": 15194.4892},\n",
    "    {\"dia\": 14, \"valor\": 0},\n",
    "    {\"dia\": 15, \"valor\": 19191.8712},\n",
    "    {\"dia\": 16, \"valor\": 21491.4221},\n",
    "    {\"dia\": 17, \"valor\": 11187.4722},\n",
    "    {\"dia\": 18, \"valor\": 11191.4722},\n",
    "    {\"dia\": 19, \"valor\": 25112.4712},\n",
    "    {\"dia\": 20, \"valor\": 17121.5762},\n",
    "    {\"dia\": 21, \"valor\": 0},\n",
    "    {\"dia\": 22, \"valor\": 24191.4522},\n",
    "    {\"dia\": 23, \"valor\": 28100.4892},\n",
    "    {\"dia\": 24, \"valor\": 17191.4731},\n",
    "    {\"dia\": 25, \"valor\": 19111.6451},\n",
    "    {\"dia\": 26, \"valor\": 31121.9812},\n",
    "    {\"dia\": 27, \"valor\": 24141.7540},\n",
    "    {\"dia\": 28, \"valor\": 0},\n",
    "    {\"dia\": 29, \"valor\": 12471.7481},\n",
    "    {\"dia\": 30, \"valor\": 12891.9192},\n",
    "]\n"
   ]
  },
  {
   "cell_type": "code",
   "execution_count": 1,
   "metadata": {},
   "outputs": [
    {
     "name": "stdout",
     "output_type": "stream",
     "text": [
      "O menor faturamento foi R$11187.4722\n",
      "O maior faturamento foi R$46251.174\n",
      "Os dias superiores à média foram: 11\n"
     ]
    }
   ],
   "source": [
    "#Desafio 3\n",
    "import json\n",
    "\n",
    "#Abrindo o arquivo json\n",
    "with open('C:/Users/Mathe/Desktop/Mts/Hashtag_Treinamentos/Python_Impressionador/Codigos/faturamento_mensal.json', 'r') as file:\n",
    "    dados_faturamento = json.load(file)\n",
    "\n",
    "def calculo_faturamento(faturamentos):\n",
    "    faturamentos_validos = []                          #lista destinada aos faturamentos diferentes de zero\n",
    "    \n",
    "    for faturamento in faturamentos:          #Extraindo o faturamento do dicionario\n",
    "        if faturamento[\"valor\"] != 0:\n",
    "            faturamentos_validos.append(faturamento[\"valor\"])\n",
    "    \n",
    "    menor  = min(faturamentos_validos)\n",
    "    maior = max(faturamentos_validos)\n",
    "    total = sum(faturamentos_validos)\n",
    "    media = total / len(faturamentos_validos)\n",
    "\n",
    "    cont = 0                                 #Cálculo do numero de dias superiores à média\n",
    "    for i in faturamentos_validos:\n",
    "        if i > media:\n",
    "            cont += 1\n",
    "\n",
    "    return menor, maior, cont\n",
    "\n",
    "menor, maior, dias_sup = calculo_faturamento(dados_faturamento)\n",
    "\n",
    "print(f\"O menor faturamento foi R${menor}\")\n",
    "print(f\"O maior faturamento foi R${maior}\")\n",
    "print(f\"Os dias superiores à média foram: {dias_sup}\")"
   ]
  },
  {
   "cell_type": "code",
   "execution_count": 43,
   "metadata": {},
   "outputs": [
    {
     "name": "stdout",
     "output_type": "stream",
     "text": [
      "O faturamento do estado de SP corresponde a 37.5% do faturamento total mensal.\n",
      "O faturamento do estado de RJ corresponde a 20.3% do faturamento total mensal.\n",
      "O faturamento do estado de MG corresponde a 16.2% do faturamento total mensal.\n",
      "O faturamento do estado de ES corresponde a 15.0% do faturamento total mensal.\n",
      "O faturamento do estado de Outros corresponde a 11.0% do faturamento total mensal.\n"
     ]
    }
   ],
   "source": [
    "#Desafio 4\n",
    "faturamento_mensal = {\"SP\": 67836.43, \"RJ\": 36678.66, \"MG\": 29229.88, \"ES\": 27165.48, \"Outros\": 19849.53}\n",
    "\n",
    "faturamento_mensal_values = []\n",
    "estados = []\n",
    "\n",
    "for estado, faturamento in faturamento_mensal.items():\n",
    "    faturamento_mensal_values.append(faturamento)\n",
    "    estados.append(estado)\n",
    "\n",
    "faturamento_total = sum(faturamento_mensal_values)\n",
    "\n",
    "for i, faturamento in enumerate(faturamento_mensal_values):\n",
    "    percentual = faturamento / faturamento_total\n",
    "    print(f\"O faturamento do estado de {estados[i]} corresponde a {percentual:.1%} do faturamento total mensal.\")\n"
   ]
  },
  {
   "cell_type": "code",
   "execution_count": 44,
   "metadata": {},
   "outputs": [
    {
     "name": "stdout",
     "output_type": "stream",
     "text": [
      "String invertida: \n",
      "suehtam\n"
     ]
    }
   ],
   "source": [
    "#Desafio 5\n",
    "string = input(\"Informe uma string para ser tratada: \")\n",
    "\n",
    "print(\"String invertida: \")\n",
    "print(string[::-1])"
   ]
  }
 ],
 "metadata": {
  "kernelspec": {
   "display_name": "Python 3",
   "language": "python",
   "name": "python3"
  },
  "language_info": {
   "codemirror_mode": {
    "name": "ipython",
    "version": 3
   },
   "file_extension": ".py",
   "mimetype": "text/x-python",
   "name": "python",
   "nbconvert_exporter": "python",
   "pygments_lexer": "ipython3",
   "version": "3.11.9"
  }
 },
 "nbformat": 4,
 "nbformat_minor": 2
}
